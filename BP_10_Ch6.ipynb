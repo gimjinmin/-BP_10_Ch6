{
  "nbformat": 4,
  "nbformat_minor": 0,
  "metadata": {
    "colab": {
      "provenance": [],
      "authorship_tag": "ABX9TyOLn5t1+m9rexUPA4DhD6V8",
      "include_colab_link": true
    },
    "kernelspec": {
      "name": "python3",
      "display_name": "Python 3"
    },
    "language_info": {
      "name": "python"
    }
  },
  "cells": [
    {
      "cell_type": "markdown",
      "metadata": {
        "id": "view-in-github",
        "colab_type": "text"
      },
      "source": [
        "<a href=\"https://colab.research.google.com/github/gimjinmin/BP_10_Ch6/blob/main/BP_10_Ch6.ipynb\" target=\"_parent\"><img src=\"https://colab.research.google.com/assets/colab-badge.svg\" alt=\"Open In Colab\"/></a>"
      ]
    },
    {
      "cell_type": "code",
      "execution_count": null,
      "metadata": {
        "colab": {
          "base_uri": "https://localhost:8080/"
        },
        "id": "iW03LeNDZTdN",
        "outputId": "c0b72be1-11c1-4228-ae6d-b8fbff6dd8ec"
      },
      "outputs": [
        {
          "output_type": "stream",
          "name": "stdout",
          "text": [
            "2 4 6 8 10 12 14 16 18 20 22 24 26 28 30 32 34 36 38 40 42 44 46 48 50 52 54 56 58 60 62 64 66 68 70 72 74 76 78 80 82 84 86 88 90 92 94 96 98 100 "
          ]
        }
      ],
      "source": [
        "for i in range(2, 101):    #range로 2에서 시작해서 101이전까지 반복하는데 2값씩 커지면서 반복\n",
        "  if i%2==0 :\n",
        "    print(i,end = \" \")"
      ]
    },
    {
      "cell_type": "code",
      "source": [
        "year = 0\n",
        "balance = 1000\n",
        "while balance <= 2000:     #조건이 있는데 조건을 충족하지 못하기 때문에 balance는 1번을 돌지 못하고 0번 반복하고 종료\n",
        "    year = year + 1\n",
        "    interest = balance * 0.07\n",
        "    balance = balance + interest\n",
        "print(year, \"년이 걸립니다.\")"
      ],
      "metadata": {
        "colab": {
          "base_uri": "https://localhost:8080/"
        },
        "id": "lymhvAfgfSVw",
        "outputId": "895b5996-154d-4550-9fcd-9658bde22d8b"
      },
      "execution_count": null,
      "outputs": [
        {
          "output_type": "stream",
          "name": "stdout",
          "text": [
            "11 년이 걸립니다.\n"
          ]
        }
      ]
    },
    {
      "cell_type": "code",
      "source": [
        "n = 1234\n",
        "sum = 0\n",
        "while n > 0:\n",
        "    digit = n %10    #%는 나머지를 연산하는 값이므로 n값을 10으로 구한다면 1000,200,30은 10의 배수이므로 가능하지만 4를 정수 10으로는 나눌수 없어 4는 나머지 값이다.\n",
        "    sum = sum + digit\n",
        "    n = n // 10\n",
        "print(sum)"
      ],
      "metadata": {
        "colab": {
          "base_uri": "https://localhost:8080/"
        },
        "id": "__M5bdiKfoNA",
        "outputId": "0aeea16f-b265-4637-93fe-ca461f34e0e0"
      },
      "execution_count": null,
      "outputs": [
        {
          "output_type": "stream",
          "name": "stdout",
          "text": [
            "10\n"
          ]
        }
      ]
    },
    {
      "cell_type": "code",
      "source": [
        "ans = 0\n",
        "while ans != 3*9:\n",
        " ans = int(input(\"3*9는\"))\n",
        "print(\"맞았습니다.\")"
      ],
      "metadata": {
        "colab": {
          "base_uri": "https://localhost:8080/"
        },
        "id": "0Ifdag3egIte",
        "outputId": "30e64b4d-36b4-40eb-8c5c-38ebf7019d3b"
      },
      "execution_count": null,
      "outputs": [
        {
          "output_type": "stream",
          "name": "stdout",
          "text": [
            "3*9는27\n",
            "맞았습니다.\n"
          ]
        }
      ]
    },
    {
      "cell_type": "code",
      "source": [
        "sum =0\n",
        "while(True):\n",
        "    cal = int(input(\"정수를 입력하시오 : \"))\n",
        "    if(cal==0):   #값을 입력받았을 때 0이면 break 아니면 변수 sum에 cal 값을 더한다.\n",
        "        break;\n",
        "        sum = sum + x\n",
        "print(\"합은\", sum ,\"입니다.\")"
      ],
      "metadata": {
        "colab": {
          "base_uri": "https://localhost:8080/"
        },
        "id": "WBOE0gVGgRpL",
        "outputId": "432ea8be-a00c-4fcd-e380-4aa1031f71ec"
      },
      "execution_count": null,
      "outputs": [
        {
          "output_type": "stream",
          "name": "stdout",
          "text": [
            "정수를 입력하시오 : 1\n",
            "정수를 입력하시오 : 0\n",
            "합은 0 입니다.\n"
          ]
        }
      ]
    },
    {
      "cell_type": "code",
      "source": [
        "from random import randint      #2개의 수를 random 함수를 통해서 출력하는데 책에서 조건이 따로 지정되지 않아서 출력된 3개를 기준으로 반복 진행\n",
        "for i in range(3) :\n",
        " d1 = randint(1, 6)\n",
        " d2 = randint(1, 6)\n",
        " print(\"첫번째 주사위=\", d1, \"두번째 주사위=\", d2)"
      ],
      "metadata": {
        "colab": {
          "base_uri": "https://localhost:8080/"
        },
        "id": "ARfTmP0fhEkX",
        "outputId": "8dce0909-5b98-413e-bcf9-74a5bd94442c"
      },
      "execution_count": null,
      "outputs": [
        {
          "output_type": "stream",
          "name": "stdout",
          "text": [
            "첫번째 주사위= 1 두번째 주사위= 2\n",
            "첫번째 주사위= 4 두번째 주사위= 4\n",
            "첫번째 주사위= 2 두번째 주사위= 5\n"
          ]
        }
      ]
    }
  ]
}